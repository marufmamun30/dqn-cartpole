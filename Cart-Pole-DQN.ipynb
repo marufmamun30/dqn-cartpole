{
 "cells": [
  {
   "cell_type": "code",
   "execution_count": 1,
   "metadata": {},
   "outputs": [],
   "source": [
    "from __future__ import annotations\n",
    "\n",
    "import math\n",
    "import random\n",
    "import torch.nn as nn\n",
    "import torch.optim as optim\n",
    "import torch.autograd\n",
    "import torch.nn.functional as F\n",
    "import gymnasium as gym\n",
    "\n",
    "from collections import defaultdict, namedtuple, deque\n",
    "from itertools import count\n",
    "\n",
    "import matplotlib.pyplot as plt\n",
    "import numpy as np\n",
    "import seaborn as sns\n",
    "from matplotlib.patches import Patch\n",
    "from tqdm import tqdm\n",
    "\n",
    "\n",
    "device = torch.device(\"cuda\" if torch.cuda.is_available() else \"cpu\")"
   ]
  },
  {
   "cell_type": "code",
   "execution_count": 2,
   "metadata": {},
   "outputs": [],
   "source": [
    "#Create environment\n",
    "env = gym.make(\"CartPole-v1\")"
   ]
  },
  {
   "cell_type": "code",
   "execution_count": 50,
   "metadata": {},
   "outputs": [],
   "source": [
    "env.close()\n",
    "env = gym.make(\"CartPole-v1\", render_mode=\"human\")"
   ]
  },
  {
   "cell_type": "code",
   "execution_count": 3,
   "metadata": {},
   "outputs": [],
   "source": [
    "#Create the Replay Buffer class\n",
    "Transition = namedtuple('Transition',\n",
    "                        ('state', 'action', 'next_state', 'reward'))\n",
    "\n",
    "\n",
    "class ReplayMemory(object):\n",
    "\n",
    "    def __init__(self, capacity):\n",
    "        self.memory = deque([], maxlen=capacity)\n",
    "\n",
    "    def push(self, *args):\n",
    "        \"\"\"Save a transition\"\"\"\n",
    "        self.memory.append(Transition(*args))\n",
    "\n",
    "    def sample(self, batch_size):\n",
    "        return random.sample(self.memory, batch_size)\n",
    "\n",
    "    def __len__(self):\n",
    "        return len(self.memory)"
   ]
  },
  {
   "cell_type": "code",
   "execution_count": 4,
   "metadata": {},
   "outputs": [],
   "source": [
    "class CartPoleAgent:\n",
    "    def __init__(\n",
    "        self,\n",
    "        model,\n",
    "        initial_epsilon: float,\n",
    "        epsilon_decay: float,\n",
    "        final_epsilon: float,\n",
    "        discount_factor: float = 0.95,\n",
    "    ):\n",
    "        \"\"\"Initialize a Reinforcement Learning agent with an untrained Deep Q-Network, a learning rate and an epsilon.\n",
    "\n",
    "        Args:\n",
    "            learning_rate: The learning rate\n",
    "            initial_epsilon: The initial epsilon value\n",
    "            epsilon_decay: The decay for epsilon\n",
    "            final_epsilon: The final epsilon value\n",
    "            discount_factor: The discount factor for computing the Q-value\n",
    "            q_value_model: The DQN which outputs a Q-value for each of the two possible actions\n",
    "        \"\"\"\n",
    "\n",
    "        self.lr = learning_rate\n",
    "        self.discount_factor = discount_factor\n",
    "\n",
    "        self.epsilon = initial_epsilon\n",
    "        self.epsilon_decay = epsilon_decay\n",
    "        self.final_epsilon = final_epsilon\n",
    "        self.model = model\n",
    "\n",
    "        self.training_error = []\n",
    "\n",
    "    def get_action(self, obs) -> int:\n",
    "        \"\"\"\n",
    "        Returns the best action with probability (1 - epsilon)\n",
    "        otherwise a random action with probability epsilon to ensure exploration.\n",
    "        \"\"\"\n",
    "        # with probability epsilon return a random action to explore the environment\n",
    "        if np.random.random() < self.epsilon:\n",
    "            return env.action_space.sample()\n",
    "        # with probability (1 - epsilon) act greedily (exploit)\n",
    "        else:\n",
    "            return int(torch.argmax(self.model(obs)))\n",
    "\n",
    "\n",
    "    def decay_epsilon(self):\n",
    "        self.epsilon = max(self.final_epsilon, self.epsilon - self.epsilon_decay)"
   ]
  },
  {
   "cell_type": "code",
   "execution_count": 5,
   "metadata": {},
   "outputs": [],
   "source": [
    "def get_action(state, model, epsilon) -> int:\n",
    "    \"\"\"\n",
    "    Returns the best action with probability (1 - epsilon)\n",
    "    otherwise a random action with probability epsilon to ensure exploration.\n",
    "    \"\"\"\n",
    "    # with probability epsilon return a random action to explore the environment\n",
    "    if np.random.random() < epsilon:\n",
    "        return env.action_space.sample()\n",
    "    # with probability (1 - epsilon) act greedily (exploit)\n",
    "    else:\n",
    "        return int(torch.argmax(model(state)))"
   ]
  },
  {
   "cell_type": "code",
   "execution_count": 40,
   "metadata": {},
   "outputs": [],
   "source": [
    "#Create the model\n",
    "class DQN(nn.Module):\n",
    "    def __init__(self):\n",
    "        super().__init__()\n",
    "        self.fc1 = nn.Linear(4,128)\n",
    "        self.fc2 = nn.Linear(128,128)\n",
    "        self.fc3 = nn.Linear(128,2)\n",
    "\n",
    "    def forward(self, x):\n",
    "        x = self.fc1(x)\n",
    "        x = F.relu(x)\n",
    "        x = self.fc2(x)\n",
    "        x = F.relu(x)\n",
    "        x = self.fc3(x)\n",
    "        return x"
   ]
  },
  {
   "cell_type": "code",
   "execution_count": 41,
   "metadata": {},
   "outputs": [],
   "source": [
    "#Instantiate the models\n",
    "model = DQN()\n",
    "model.to(device)\n",
    "target_model = DQN()\n",
    "target_model.to(device)\n",
    "for param in target_model.parameters():\n",
    "    param.requires_grad = False"
   ]
  },
  {
   "cell_type": "code",
   "execution_count": 42,
   "metadata": {},
   "outputs": [],
   "source": [
    "state_size = env.observation_space.shape[0]\n",
    "num_episodes = 300\n",
    "batch_size = 128\n",
    "buffer_size = 50_000\n",
    "replay_buffer = ReplayMemory(buffer_size)"
   ]
  },
  {
   "cell_type": "code",
   "execution_count": null,
   "metadata": {},
   "outputs": [],
   "source": [
    "# foobar = ReplayMemory(2)\n",
    "# print(Transition([0.1,0.2,0.05,0.5],1,[0.2,0.3,0.06,0.7],1))\n",
    "# foobar.push([0.1,0.2,0.05,0.5],1,[0.2,0.3,0.06,0.7],1)\n",
    "# foobar.push([0.1,0.2,0.05,0.5],1,[0.2,0.3,0.06,0.7],1)\n",
    "# print(foobar.sample(2))\n",
    "# print(foobar.__len__())\n",
    "# foobar.push(2,3,4,5)\n",
    "# print(foobar.__len__())"
   ]
  },
  {
   "cell_type": "code",
   "execution_count": 20,
   "metadata": {},
   "outputs": [],
   "source": [
    "learning_rate = 0.0001\n",
    "tau = 0.005\n",
    "initial_epsilon = 1.0\n",
    "epsilon_decay = initial_epsilon / (num_episodes / 2)  # reduce the exploration over time\n",
    "final_epsilon = 0.01\n",
    "discount_factor = 0.99"
   ]
  },
  {
   "cell_type": "code",
   "execution_count": 43,
   "metadata": {},
   "outputs": [],
   "source": [
    "agent = CartPoleAgent(\n",
    "    model=model,\n",
    "    learning_rate=learning_rate,\n",
    "    initial_epsilon=initial_epsilon,\n",
    "    epsilon_decay=epsilon_decay,\n",
    "    final_epsilon=final_epsilon,\n",
    "    discount_factor=discount_factor\n",
    ")"
   ]
  },
  {
   "cell_type": "code",
   "execution_count": 48,
   "metadata": {},
   "outputs": [],
   "source": [
    "agent = CartPoleAgent(\n",
    "    model=model,\n",
    "    learning_rate=learning_rate,\n",
    "    initial_epsilon=0,\n",
    "    epsilon_decay=epsilon_decay,\n",
    "    final_epsilon=0,\n",
    "    discount_factor=discount_factor\n",
    ")"
   ]
  },
  {
   "cell_type": "code",
   "execution_count": 44,
   "metadata": {},
   "outputs": [],
   "source": [
    "criterion = torch.nn.HuberLoss(delta=1)\n",
    "optimizer = torch.optim.AdamW(params=model.parameters(), lr=learning_rate)"
   ]
  },
  {
   "cell_type": "code",
   "execution_count": 12,
   "metadata": {},
   "outputs": [
    {
     "name": "stdout",
     "output_type": "stream",
     "text": [
      "0\n"
     ]
    }
   ],
   "source": [
    "print(replay_buffer.__len__())"
   ]
  },
  {
   "cell_type": "code",
   "execution_count": 285,
   "metadata": {},
   "outputs": [],
   "source": [
    "env.close()\n",
    "env = gym.make(\"CartPole-v1\", render_mode=\"human\")"
   ]
  },
  {
   "cell_type": "code",
   "execution_count": 54,
   "metadata": {},
   "outputs": [
    {
     "name": "stdout",
     "output_type": "stream",
     "text": [
      "c:\\Users\\Maruf\\Documents\\Programming\\RL\n"
     ]
    }
   ],
   "source": [
    "import os\n",
    "cwd = os.getcwd()\n",
    "print(cwd)"
   ]
  },
  {
   "cell_type": "code",
   "execution_count": 58,
   "metadata": {},
   "outputs": [],
   "source": [
    "# Define the path where you want to save the checkpoint\n",
    "checkpoint_path = \"dqn_cartpole_params.ckpt\"\n",
    "\n",
    "# Save the model state\n",
    "additional_info = {\n",
    "    'model_state_dict': model.state_dict(),\n",
    "    'target_state_dict': target_model.state_dict(),\n",
    "    'optimizer_state_dict': optimizer.state_dict(),\n",
    "}\n",
    "\n",
    "torch.save(additional_info, checkpoint_path)"
   ]
  },
  {
   "cell_type": "code",
   "execution_count": 56,
   "metadata": {},
   "outputs": [
    {
     "name": "stdout",
     "output_type": "stream",
     "text": [
      "OrderedDict([('fc1.weight', tensor([[-4.1690e-01,  1.2828e-01, -5.3537e-01,  1.8661e-01],\n",
      "        [ 2.2383e-01, -1.8354e-01,  3.0840e-01,  1.8326e-01],\n",
      "        [ 1.0515e-02,  2.9164e-01,  2.0266e-02, -4.8822e-01],\n",
      "        [ 1.3669e-01, -1.6774e-01, -2.0988e-01, -3.3313e-01],\n",
      "        [-3.0039e-01, -2.8769e-01, -9.7468e-01, -2.5066e-01],\n",
      "        [ 4.6681e-01, -3.3675e-01, -9.0262e-02, -1.8620e-01],\n",
      "        [ 6.4833e-01,  6.1869e-02, -8.2932e-03, -7.1837e-02],\n",
      "        [-4.5104e-01,  1.2695e-01,  2.5816e-01,  1.6507e-01],\n",
      "        [ 2.3667e-01,  5.9132e-01,  2.4720e-01, -2.6330e-01],\n",
      "        [-3.2625e-01, -1.7974e-01, -7.3368e-01, -1.8830e-01],\n",
      "        [-2.3687e-01, -2.1682e-01, -7.2480e-01, -2.8373e-02],\n",
      "        [ 2.2870e-01,  5.1391e-01,  2.3083e-01, -3.9481e-01],\n",
      "        [ 2.7724e-01, -1.9558e-01,  3.5915e-02,  1.2872e-01],\n",
      "        [ 1.1412e-01,  2.1128e-01,  3.7553e-01,  2.1572e-01],\n",
      "        [-3.2900e-01,  1.7847e-01,  7.7313e-01, -2.6875e-01],\n",
      "        [-7.6275e-02, -3.0969e-01, -1.3062e+00, -2.8716e-01],\n",
      "        [-2.5563e-01,  2.0464e-01, -3.2015e-01, -5.1311e-01],\n",
      "        [ 3.1117e-01, -1.8699e-02,  3.8317e-01,  5.0694e-01],\n",
      "        [ 3.6523e-01,  2.3287e-01,  1.7527e-01, -1.3368e-01],\n",
      "        [ 3.5099e-01,  3.9519e-01,  7.2352e-01, -2.6600e-01],\n",
      "        [-1.1116e-01,  5.4715e-01,  2.5339e-01, -1.9618e-03],\n",
      "        [-5.8828e-01, -4.2681e-01, -5.8918e-02,  3.1720e-01],\n",
      "        [-3.3577e-01, -3.8666e-01, -2.2992e-01,  2.9581e-01],\n",
      "        [-4.7995e-01, -1.5819e-01, -1.2208e-01,  2.2186e-01],\n",
      "        [ 6.0423e-02,  3.9483e-01,  1.1762e+00,  3.4509e-01],\n",
      "        [ 4.2546e-01, -3.2453e-01, -3.3263e-01, -2.8005e-01],\n",
      "        [-1.5846e-01,  1.9741e-01, -3.5980e-01, -4.2193e-01],\n",
      "        [ 7.6641e-02, -3.5215e-01, -6.0755e-01,  7.8974e-02],\n",
      "        [ 4.1068e-01, -3.6721e-01,  5.5183e-01,  7.6209e-02],\n",
      "        [ 4.2814e-01,  4.0674e-01, -1.3362e-01, -2.1230e-01],\n",
      "        [-1.4903e-02,  3.3456e-01, -3.7520e-01,  3.1417e-01],\n",
      "        [-1.2772e-01, -5.7767e-01, -2.3200e-01,  2.0182e-01],\n",
      "        [-2.3196e-01,  4.9209e-01, -1.1697e-01, -3.2385e-01],\n",
      "        [ 8.1053e-02, -4.1371e-01, -6.3044e-01,  4.3980e-01],\n",
      "        [ 6.2195e-01,  9.6125e-02,  8.9411e-01,  8.5668e-02],\n",
      "        [ 5.1596e-01,  5.5037e-01, -1.4549e-01, -2.0571e-01],\n",
      "        [-2.0057e-01,  5.1993e-02,  2.0879e-01, -4.1352e-02],\n",
      "        [-5.7020e-01, -3.7898e-01,  1.2320e-01, -1.9513e-01],\n",
      "        [ 8.6296e-02,  3.5071e-01, -2.4993e-03, -3.9764e-01],\n",
      "        [-5.7201e-01,  3.7680e-01,  1.0809e+00,  3.6812e-01],\n",
      "        [-2.0945e-01, -4.5473e-01, -7.6668e-01, -3.7525e-01],\n",
      "        [-4.1845e-01,  2.5534e-01,  1.1788e-01,  2.0000e-01],\n",
      "        [ 2.0732e-01,  1.9596e-03, -5.1579e-01,  2.9097e-01],\n",
      "        [ 2.2983e-01, -8.2742e-02,  7.2987e-02, -2.7255e-02],\n",
      "        [ 4.2196e-01, -3.9985e-01, -5.9661e-01, -4.0397e-01],\n",
      "        [-1.9461e-01,  1.7626e-01,  1.7238e-01,  1.0804e-01],\n",
      "        [ 2.5572e-01, -5.1510e-01, -1.0831e+00, -4.2291e-01],\n",
      "        [ 5.3664e-01, -4.0392e-01, -3.6020e-01,  1.2060e-01],\n",
      "        [ 2.0985e-01, -2.5035e-01, -7.5294e-01, -2.7853e-01],\n",
      "        [ 4.1860e-01, -1.3706e-01, -1.2024e+00, -1.5028e-01],\n",
      "        [-2.5918e-01, -5.5078e-02, -8.2567e-01, -3.6965e-01],\n",
      "        [-1.0806e-01,  5.6170e-03, -1.4451e-01, -3.3204e-01],\n",
      "        [ 2.0614e-01, -2.8540e-01, -3.9379e-01,  1.2568e-01],\n",
      "        [ 1.3782e-01, -9.3729e-02,  1.4526e-01,  1.4380e-01],\n",
      "        [-5.6993e-01, -2.9284e-01, -1.7268e-01, -4.2885e-01],\n",
      "        [-2.7813e-01,  1.6577e-01, -2.2070e-01,  2.9086e-01],\n",
      "        [ 8.9406e-02,  9.3466e-02,  4.2756e-01,  1.2871e-01],\n",
      "        [-8.8568e-02,  3.4700e-01,  8.4671e-01,  3.3188e-01],\n",
      "        [-2.7885e-01,  4.5909e-01, -2.7653e-01,  3.2176e-01],\n",
      "        [-5.0757e-01, -1.7512e-01, -7.7618e-01, -1.5812e-02],\n",
      "        [-4.4230e-01, -3.5773e-01, -9.0244e-01, -3.1428e-01],\n",
      "        [-1.0653e-01, -2.1186e-01,  2.8690e-01,  1.4445e-01],\n",
      "        [ 3.1536e-01,  3.7856e-01,  5.3228e-01,  2.9400e-01],\n",
      "        [ 2.6369e-01, -2.2405e-01,  1.6918e-01,  3.9430e-01],\n",
      "        [-1.4310e-03, -3.6857e-02,  1.2333e-01, -1.9638e-01],\n",
      "        [ 1.1366e-01, -3.6181e-01, -4.7430e-01, -2.3104e-01],\n",
      "        [ 4.7879e-01,  2.6966e-01, -1.8264e-01,  1.5147e-01],\n",
      "        [-7.2663e-02,  5.8888e-02,  6.3047e-01, -2.4754e-01],\n",
      "        [ 1.6164e-02, -1.9297e-01,  3.0803e-01, -1.2690e-01],\n",
      "        [-3.5700e-01,  3.4448e-01,  1.1528e+00,  4.5981e-01],\n",
      "        [-2.1398e-03, -3.3766e-01,  2.4208e-01,  4.1376e-01],\n",
      "        [-7.0240e-01, -2.0958e-01, -3.1125e-01,  2.5863e-01],\n",
      "        [ 3.9543e-01, -8.2832e-02, -3.2651e-01, -1.3221e-01],\n",
      "        [ 1.7744e-01,  2.0111e-01, -6.9886e-01, -1.6780e-01],\n",
      "        [ 3.5839e-01, -2.4978e-01, -2.9999e-01,  1.0175e-01],\n",
      "        [-6.4873e-01,  2.5725e-02,  5.5824e-01,  1.2655e-02],\n",
      "        [-8.4937e-02, -1.2542e-01, -7.1044e-01, -2.4823e-01],\n",
      "        [-3.5622e-01,  3.3873e-01,  1.3420e+00,  4.9301e-01],\n",
      "        [-3.6422e-01,  3.0843e-01,  3.6873e-01,  1.1922e-01],\n",
      "        [ 2.2745e-01,  8.7141e-02, -4.2913e-01,  1.3919e-02],\n",
      "        [-2.3674e-01, -2.5574e-01,  6.2242e-02,  2.5363e-01],\n",
      "        [-2.9230e-01,  3.6888e-02,  8.8253e-02, -2.6944e-01],\n",
      "        [ 3.7286e-01,  2.9936e-01,  1.1788e+00,  2.8441e-01],\n",
      "        [-1.0589e-01,  2.0269e-02, -1.0127e+00, -1.7658e-01],\n",
      "        [ 8.3795e-03,  4.8275e-01, -2.6290e-02, -3.2442e-01],\n",
      "        [ 2.0259e-01, -1.6712e-01, -8.2520e-01, -2.5777e-01],\n",
      "        [ 2.9501e-01, -3.0479e-01,  2.0090e-01,  7.1958e-02],\n",
      "        [ 1.8939e-01, -1.3241e-01,  5.4888e-01, -2.3871e-01],\n",
      "        [ 2.1785e-01,  3.6802e-01, -5.7908e-02, -1.2124e-01],\n",
      "        [ 1.4052e-01, -1.4694e-01,  4.4709e-01,  3.2153e-01],\n",
      "        [-9.7937e-02,  1.1097e-01,  4.6010e-01,  3.4676e-02],\n",
      "        [ 1.3336e-01, -4.0211e-01, -1.4035e-01, -2.1794e-01],\n",
      "        [ 1.1626e-01, -5.9619e-02,  1.2940e-01, -4.1894e-01],\n",
      "        [-2.5941e-01,  3.1578e-01,  2.5600e-01,  3.9267e-01],\n",
      "        [ 6.0258e-01, -8.0011e-02,  6.7467e-02, -8.2522e-02],\n",
      "        [-1.9555e-01,  2.7946e-01,  4.2302e-01,  3.4809e-01],\n",
      "        [-3.3537e-01,  5.0512e-02,  1.6744e-01,  1.7145e-01],\n",
      "        [ 7.7386e-03,  7.2022e-02,  3.2758e-01, -4.3409e-02],\n",
      "        [ 3.8399e-01,  2.4782e-01, -6.2935e-02,  7.5603e-02],\n",
      "        [ 4.6799e-01,  9.0870e-02,  4.8694e-02, -2.4474e-01],\n",
      "        [ 3.9350e-02, -1.7820e-01, -1.5507e-01,  2.4684e-01],\n",
      "        [-1.1352e-01, -3.4446e-01,  2.3152e-01,  3.6938e-01],\n",
      "        [ 2.6418e-01, -3.3687e-01, -1.2986e-01,  3.3937e-01],\n",
      "        [-8.3688e-04,  3.4318e-01,  2.6675e-01, -3.7587e-01],\n",
      "        [ 1.6989e-01,  3.1913e-01,  2.1573e-01,  2.3798e-01],\n",
      "        [-1.7850e-01,  1.5122e-01,  1.3261e-01, -2.1550e-01],\n",
      "        [ 4.8136e-01,  1.1071e-01, -6.3484e-01, -6.3583e-03],\n",
      "        [ 3.3422e-01, -6.0032e-01, -4.2264e-01, -4.6000e-01],\n",
      "        [-5.5559e-01, -3.5584e-01,  8.9898e-02,  3.2673e-01],\n",
      "        [ 2.6897e-01, -3.4621e-01,  2.2674e-01,  3.4219e-01],\n",
      "        [-2.0926e-02,  2.6530e-01,  1.9564e-01,  2.3792e-02],\n",
      "        [-1.6032e-03,  3.9066e-01,  2.2674e-01, -4.7335e-01],\n",
      "        [ 2.6468e-01, -2.6954e-01, -1.0208e-02, -7.1340e-02],\n",
      "        [-1.5266e-01, -1.9255e-01, -2.5818e-01,  2.8872e-01],\n",
      "        [-1.6078e-01, -3.1073e-02, -5.8437e-01, -1.2561e-01],\n",
      "        [-3.5956e-01, -6.8613e-02,  5.6111e-01,  5.1233e-02],\n",
      "        [-1.7783e-01, -1.0258e-01, -1.1193e+00, -2.6371e-01],\n",
      "        [ 7.5949e-02, -4.2518e-01, -3.4965e-01,  3.3076e-01],\n",
      "        [-3.5044e-02, -4.2149e-01,  1.0245e-01, -1.7168e-01],\n",
      "        [-4.1085e-03,  6.4013e-02,  2.2151e-01,  4.0597e-01],\n",
      "        [-7.0260e-01,  2.9430e-01, -1.6100e-01,  2.7162e-01],\n",
      "        [-5.8781e-01, -2.1407e-01, -1.4037e-01, -7.7618e-02],\n",
      "        [-2.3831e-01,  6.9686e-02, -4.7665e-02, -2.5673e-01],\n",
      "        [-7.6016e-01, -4.4235e-01, -1.9851e-01, -2.3724e-01],\n",
      "        [-2.2685e-02, -3.0063e-01, -2.3758e-01, -2.2751e-01],\n",
      "        [-3.6585e-01, -3.5253e-01, -4.6028e-01, -6.1889e-02],\n",
      "        [-3.9191e-01, -3.9043e-02, -3.6804e-01,  3.2665e-01],\n",
      "        [ 6.0332e-02,  3.9021e-01, -2.8316e-01, -2.1161e-01]], device='cuda:0')), ('fc1.bias', tensor([ 0.5742,  0.3734, -0.4227,  0.5141, -0.2065,  0.6153, -0.0847,  0.6330,\n",
      "         0.2790,  0.6599,  0.4800,  0.4336,  0.6640,  0.3306, -0.0814, -0.0098,\n",
      "        -0.2120, -0.0028,  0.5068, -0.1655,  0.3617, -0.4158, -0.5257,  0.2781,\n",
      "        -0.0759,  0.4360, -0.4346,  0.3460, -0.1700,  0.1673,  0.5888,  0.1295,\n",
      "         0.6446, -0.2759, -0.0960,  0.3176,  0.3630, -0.2268,  0.4834, -0.0195,\n",
      "         0.1630,  0.6195,  0.7436,  0.6605,  0.6622, -0.2689, -0.1251,  0.2226,\n",
      "        -0.2295, -0.2434, -0.2637, -0.3984,  0.6247,  0.5282, -0.0479,  0.6228,\n",
      "         0.6068, -0.2081, -0.4312,  0.2526, -0.2127, -0.1954, -0.1247, -0.3799,\n",
      "        -0.3562,  0.0641, -0.1445,  0.4203, -0.3239, -0.3798,  0.4697, -0.1796,\n",
      "        -0.0869, -0.3809,  0.5511,  0.0773, -0.3280,  0.1799,  0.7219,  0.7159,\n",
      "        -0.4437,  0.7136, -0.1025, -0.3180,  0.3172, -0.1625,  0.7068,  0.4001,\n",
      "         0.3897,  0.3838,  0.3558,  0.3658,  0.2666, -0.3127, -0.0701, -0.1875,\n",
      "         0.6472, -0.4640,  0.5879, -0.2693,  0.5137, -0.2299,  0.4732,  0.0841,\n",
      "        -0.0862,  0.5724,  0.2374,  0.0067,  0.3261, -0.5303,  0.3442,  0.6312,\n",
      "        -0.3403, -0.2088,  0.5921, -0.4467, -0.3652, -0.5184,  0.0456,  0.4371,\n",
      "        -0.1153,  0.2489,  0.4308, -0.3234,  0.5110,  0.4464,  0.4645, -0.0940],\n",
      "       device='cuda:0')), ('fc2.weight', tensor([[-0.0991,  0.1678,  0.0619,  ..., -0.1911,  0.0238,  0.0489],\n",
      "        [ 0.2453,  0.2000, -0.0226,  ...,  0.1781,  0.0286,  0.0143],\n",
      "        [ 0.2079,  0.1887,  0.0367,  ...,  0.0598,  0.1748,  0.0508],\n",
      "        ...,\n",
      "        [ 0.1432,  0.1103, -0.1240,  ...,  0.1460,  0.0143, -0.2251],\n",
      "        [-0.2643,  0.1314,  0.0343,  ..., -0.2560, -0.0106,  0.0493],\n",
      "        [ 0.0653,  0.0768, -0.3939,  ..., -0.1048,  0.0971, -0.1461]],\n",
      "       device='cuda:0')), ('fc2.bias', tensor([ 0.0647,  0.1365,  0.2310, -0.0832,  0.1699,  0.2179, -0.0810,  0.1643,\n",
      "         0.0391,  0.1025,  0.1957,  0.2082, -0.0862,  0.0305, -0.0706,  0.1609,\n",
      "         0.1958, -0.0696,  0.2546, -0.0060,  0.0481, -0.0670, -0.0675,  0.1842,\n",
      "         0.1527,  0.2907,  0.1661,  0.3262,  0.0286,  0.0466,  0.2415, -0.0077,\n",
      "         0.1945,  0.2617,  0.2440, -0.0447,  0.2696, -0.0049,  0.0246,  0.0860,\n",
      "         0.2500,  0.0748,  0.2568,  0.0722, -0.0511, -0.0275,  0.1725, -0.0235,\n",
      "         0.2160,  0.2105,  0.2771,  0.2596, -0.0117,  0.1694,  0.1570, -0.0601,\n",
      "         0.1948, -0.0274,  0.0762, -0.0296,  0.1382, -0.0673,  0.1606, -0.1063,\n",
      "        -0.0538,  0.2012, -0.0531, -0.0079,  0.2194,  0.2624,  0.1574, -0.0637,\n",
      "         0.0116,  0.0993,  0.2220,  0.1404,  0.3110,  0.0427, -0.0278,  0.1963,\n",
      "        -0.0105,  0.2257,  0.0166,  0.1645,  0.2420,  0.0377, -0.0230,  0.2825,\n",
      "         0.0564,  0.1535,  0.2681,  0.0347, -0.0778,  0.2485,  0.2999,  0.2174,\n",
      "         0.1460,  0.1594,  0.1884,  0.2384,  0.2050,  0.1355,  0.0730,  0.1510,\n",
      "         0.1585,  0.3131,  0.2256,  0.0503,  0.3112,  0.2029, -0.0807,  0.0207,\n",
      "         0.2091,  0.2193,  0.0117,  0.1573,  0.2748,  0.2613,  0.1256,  0.3003,\n",
      "        -0.0409,  0.2349, -0.0535,  0.1650, -0.0516,  0.0686,  0.0751, -0.0877],\n",
      "       device='cuda:0')), ('fc3.weight', tensor([[-0.6177,  0.2675,  0.2693, -0.7887,  0.3030,  0.2849, -0.0419,  0.3333,\n",
      "         -0.5565, -0.4430,  0.2733,  0.3281,  0.0561, -0.0372, -0.0525,  0.3522,\n",
      "          0.2745, -0.4048,  0.1865,  0.0114, -0.3393,  0.0256,  0.0605,  0.2616,\n",
      "          0.3053,  0.2156,  0.3132,  0.2628, -0.6320,  0.2205,  0.2414, -0.6028,\n",
      "          0.1895,  0.1828,  0.3113, -0.0341,  0.2673, -0.0058, -0.4891, -0.7316,\n",
      "          0.2816,  0.4295,  0.3658, -0.2212, -0.5392, -0.5808,  0.2883, -0.5897,\n",
      "          0.2611,  0.1463,  0.2637,  0.2650, -0.6347,  0.2864,  0.3341,  0.0134,\n",
      "          0.2367, -0.5420, -0.0020, -0.8924,  0.0897, -0.2744,  0.2780, -0.8160,\n",
      "         -0.5758,  0.2727, -0.0821, -0.5115,  0.2414,  0.2132,  0.3147, -0.5638,\n",
      "         -0.4516, -0.1647,  0.3187,  0.3334,  0.2519, -0.0024,  0.0392,  0.2800,\n",
      "         -0.0677,  0.2290, -0.6230,  0.3116,  0.3290, -0.4142, -0.2155,  0.2015,\n",
      "         -0.3838,  0.2125,  0.2858, -0.4598,  0.0476,  0.2022,  0.2341,  0.3610,\n",
      "          0.2720,  0.2955,  0.2926,  0.2970,  0.3339,  0.2657, -0.1126,  0.2338,\n",
      "          0.2761,  0.2857,  0.2566, -0.1274,  0.2393,  0.2373, -0.0516, -0.5303,\n",
      "          0.3226,  0.2983,  0.2374,  0.2529,  0.2791,  0.2852,  0.4319,  0.2899,\n",
      "         -0.3424,  0.2712, -0.7237,  0.2969, -0.0343,  0.0367, -0.7053, -0.4675],\n",
      "        [ 0.1699,  0.2926,  0.2970, -0.5351,  0.2428,  0.2718, -0.4905,  0.2814,\n",
      "          0.2955,  0.6801,  0.2817,  0.3620,  0.0396, -0.3638,  0.0287,  0.3485,\n",
      "          0.2773, -0.7608,  0.3331, -0.0425, -0.1831, -0.6635,  0.0105,  0.3302,\n",
      "          0.1555,  0.3210,  0.1703,  0.2699, -0.7555, -0.3311,  0.2659, -0.7102,\n",
      "          0.3004,  0.2962,  0.2953,  0.0234,  0.2334, -0.0669, -0.2052, -0.4562,\n",
      "          0.2355,  0.1917,  0.2615, -0.2934, -0.0731,  0.0132,  0.3207, -0.4128,\n",
      "          0.1007,  0.2158,  0.3639,  0.3090, -0.5151,  0.1991,  0.3410, -0.0126,\n",
      "          0.2511, -0.8113, -0.0468,  0.3925,  0.2322, -0.7028,  0.2500, -0.3478,\n",
      "         -0.9075,  0.2081, -0.0692, -0.3535,  0.3295,  0.2720,  0.3137, -0.8109,\n",
      "          0.7123,  0.2029,  0.1740,  0.2559,  0.2203, -1.2005,  0.7929,  0.2141,\n",
      "         -0.0466,  0.2650, -0.7582,  0.2629,  0.2174, -0.6425, -0.4973,  0.3116,\n",
      "          0.3031,  0.3322,  0.3103, -0.7364, -0.0686,  0.4013,  0.2518,  0.2515,\n",
      "          0.2151,  0.2625,  0.3599,  0.2999,  0.3081,  0.3563,  0.3048,  0.3170,\n",
      "          0.3080,  0.2368,  0.2714, -0.3828,  0.3196,  0.2889,  0.0497, -0.3481,\n",
      "          0.1908,  0.2629, -0.4642,  0.2808,  0.3314,  0.2944,  0.2514,  0.2638,\n",
      "          0.0866,  0.1891, -0.6922,  0.1875, -0.3036,  0.2787, -0.4957,  0.7672]],\n",
      "       device='cuda:0')), ('fc3.bias', tensor([0.1462, 0.0942], device='cuda:0'))])\n"
     ]
    }
   ],
   "source": [
    "checkpoint = torch.load(checkpoint_path)\n",
    "print(checkpoint['model_state_dict'])"
   ]
  },
  {
   "cell_type": "code",
   "execution_count": 53,
   "metadata": {},
   "outputs": [
    {
     "name": "stdout",
     "output_type": "stream",
     "text": [
      "Ep: 1 Return: 500 Eps: 0.00\n"
     ]
    },
    {
     "ename": "KeyboardInterrupt",
     "evalue": "",
     "output_type": "error",
     "traceback": [
      "\u001b[1;31m---------------------------------------------------------------------------\u001b[0m",
      "\u001b[1;31mKeyboardInterrupt\u001b[0m                         Traceback (most recent call last)",
      "Cell \u001b[1;32mIn[53], line 15\u001b[0m\n\u001b[0;32m     12\u001b[0m \u001b[38;5;28;01mwhile\u001b[39;00m \u001b[38;5;129;01mnot\u001b[39;00m done:\n\u001b[0;32m     13\u001b[0m     effective_batch_size \u001b[38;5;241m=\u001b[39m \u001b[38;5;28mmin\u001b[39m(batch_size, replay_buffer\u001b[38;5;241m.\u001b[39m\u001b[38;5;21m__len__\u001b[39m()\u001b[38;5;241m+\u001b[39m\u001b[38;5;241m1\u001b[39m)\n\u001b[1;32m---> 15\u001b[0m     action \u001b[38;5;241m=\u001b[39m get_action(current_state, model, epsilon\u001b[38;5;241m=\u001b[39magent\u001b[38;5;241m.\u001b[39mepsilon)\n\u001b[0;32m     16\u001b[0m     next_state, reward, terminated, truncated, _ \u001b[38;5;241m=\u001b[39m env\u001b[38;5;241m.\u001b[39mstep(action)\n\u001b[0;32m     17\u001b[0m     \u001b[38;5;28;01mif\u001b[39;00m terminated:\n",
      "Cell \u001b[1;32mIn[5], line 11\u001b[0m, in \u001b[0;36mget_action\u001b[1;34m(state, model, epsilon)\u001b[0m\n\u001b[0;32m      8\u001b[0m     \u001b[38;5;28;01mreturn\u001b[39;00m env\u001b[38;5;241m.\u001b[39maction_space\u001b[38;5;241m.\u001b[39msample()\n\u001b[0;32m      9\u001b[0m \u001b[38;5;66;03m# with probability (1 - epsilon) act greedily (exploit)\u001b[39;00m\n\u001b[0;32m     10\u001b[0m \u001b[38;5;28;01melse\u001b[39;00m:\n\u001b[1;32m---> 11\u001b[0m     \u001b[38;5;28;01mreturn\u001b[39;00m \u001b[38;5;28mint\u001b[39m(torch\u001b[38;5;241m.\u001b[39margmax(model(state)))\n",
      "\u001b[1;31mKeyboardInterrupt\u001b[0m: "
     ]
    }
   ],
   "source": [
    "#Create the training loop\n",
    "model.train()\n",
    "prev_iterations = 0\n",
    "iterations = 0\n",
    "returns_list = []\n",
    "\n",
    "for j in range(num_episodes):\n",
    "    done = False\n",
    "    current_state, _ = env.reset()\n",
    "    current_state = torch.tensor(current_state, device=device).unsqueeze(0)\n",
    "    \n",
    "    while not done:\n",
    "        effective_batch_size = min(batch_size, replay_buffer.__len__()+1)\n",
    "        \n",
    "        action = get_action(current_state, model, epsilon=agent.epsilon)\n",
    "        next_state, reward, terminated, truncated, _ = env.step(action)\n",
    "        if terminated:\n",
    "            next_state = None\n",
    "        else:\n",
    "            next_state = torch.tensor(next_state, device=device).unsqueeze(0)\n",
    "\n",
    "        replay_buffer.push(current_state, action, next_state, reward)\n",
    "        \n",
    "        transitions = replay_buffer.sample(batch_size=effective_batch_size)\n",
    "        batch = Transition(*zip(*transitions))\n",
    "\n",
    "        batch_states = torch.cat(batch.state)\n",
    "        batch_rewards = torch.tensor(batch.reward, device=device)\n",
    "        batch_actions = torch.tensor(batch.action, device=device)\n",
    "        batch_next_states = torch.cat([s for s in batch.next_state if s is not None])\n",
    "\n",
    "        with torch.no_grad():\n",
    "            mask = torch.tensor(tuple(map(lambda s: s is not None, batch.next_state)), device=device, dtype=torch.bool)\n",
    "            best_next_q_values = torch.zeros(effective_batch_size, device=device)\n",
    "            best_next_q_values[mask] = torch.max(target_model(batch_next_states), 1).values\n",
    "            target_q_values = batch_rewards + discount_factor*best_next_q_values\n",
    "\n",
    "\n",
    "        predicted_q_values = model(batch_states)\n",
    "        predicted_q_values = predicted_q_values[torch.arange(effective_batch_size), batch_actions]\n",
    "\n",
    "        \n",
    "        loss = criterion(predicted_q_values, target_q_values)\n",
    "        optimizer.zero_grad()\n",
    "        loss.backward()\n",
    "        optimizer.step()\n",
    "\n",
    "        current_state = next_state\n",
    "        done = terminated or truncated\n",
    "        iterations += 1\n",
    "        target_model_state_dict = target_model.state_dict()\n",
    "        model_state_dict = model.state_dict()\n",
    "        for key in model_state_dict:\n",
    "            target_model_state_dict[key] = model_state_dict[key]*tau + target_model_state_dict[key]*(1-tau)\n",
    "        target_model.load_state_dict(target_model_state_dict)\n",
    "    episode_length = iterations-prev_iterations\n",
    "    prev_iterations = iterations\n",
    "    \n",
    "    returns_list.append(episode_length)\n",
    "    agent.decay_epsilon() \n",
    "    print(f\"Ep: {j+1} Return: {episode_length} Eps: {agent.epsilon:.2f}\")\n",
    "\n",
    "\n",
    "\n"
   ]
  },
  {
   "cell_type": "code",
   "execution_count": 46,
   "metadata": {},
   "outputs": [
    {
     "data": {
      "image/png": "[encoded data removed]",
      "text/plain": [
       "<Figure size 1000x1000 with 1 Axes>"
      ]
     },
     "metadata": {},
     "output_type": "display_data"
    }
   ],
   "source": [
    "plt.figure(figsize=(10,10))\n",
    "plt.plot(range(len(returns_list)), returns_list)\n",
    "plt.xlabel('Episodes')\n",
    "plt.ylabel('returns')\n",
    "plt.show()"
   ]
  },
  {
   "cell_type": "code",
   "execution_count": 47,
   "metadata": {},
   "outputs": [
    {
     "name": "stdout",
     "output_type": "stream",
     "text": [
      "500\n",
      "218.59333333333333\n"
     ]
    }
   ],
   "source": [
    "print(max(returns_list))\n",
    "print(sum(returns_list[150:])/150)"
   ]
  }
 ],
 "metadata": {
  "kernelspec": {
   "display_name": "gymenv",
   "language": "python",
   "name": "python3"
  },
  "language_info": {
   "codemirror_mode": {
    "name": "ipython",
    "version": 3
   },
   "file_extension": ".py",
   "mimetype": "text/x-python",
   "name": "python",
   "nbconvert_exporter": "python",
   "pygments_lexer": "ipython3",
   "version": "3.11.8"
  }
 },
 "nbformat": 4,
 "nbformat_minor": 2
}
